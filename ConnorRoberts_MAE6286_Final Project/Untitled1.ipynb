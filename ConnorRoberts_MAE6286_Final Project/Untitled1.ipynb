{
 "cells": [
  {
   "cell_type": "code",
   "execution_count": 15,
   "metadata": {
    "collapsed": false
   },
   "outputs": [],
   "source": [
    "import numpy as np"
   ]
  },
  {
   "cell_type": "code",
   "execution_count": 91,
   "metadata": {
    "collapsed": false
   },
   "outputs": [],
   "source": [
    "def binomial(type,S0, k, r, sigma, T, N ,american=\"false\"):\n",
    "    #we improve the previous tree by checking for early exercise for american options\n",
    "    dt = T/N\n",
    "    u = np.exp(sigma * np.sqrt(dt))\n",
    "    d = 1/u\n",
    "    K = np.ones(N+1)*k #strike price array\n",
    "    a = np.exp(r * dt)\n",
    "    p = (a - d)/ (u - d)\n",
    " \n",
    "    #initialize array\n",
    "    V =  np.zeros(N+1)\n",
    "    \n",
    "    #expiration Asset Prices (S)\n",
    "    S = np.asarray([(S0 * u**j * d**(N - j)) for j in range(N + 1)])  \n",
    "    \n",
    "    #expiration Option Values (V)\n",
    "    if type ==\"C\":\n",
    "        V = np.clip(S - K, 0, np.inf)\n",
    "    elif type ==\"P\":\n",
    "        V = np.clip(K - S, 0, np.inf)\n",
    "   \n",
    "    #calculate backward the option prices\n",
    "    for i in range(N-1, -1, -1):\n",
    "        #Current Option Value: f = e^(-r*dt)(pfu + (1-p)fd)\n",
    "        V[:-1]=np.exp(-r * dt) * (p * V[1:] + (1-p) * V[:-1])\n",
    "        #Current Assett Value\n",
    "        S = S*u\n",
    "\n",
    "        if american=='true':\n",
    "        #Check if current exerise value is greater than exercise at expiration\n",
    "        #if so, exericse early\n",
    "            if type ==\"C\":\n",
    "                V = np.maximum(V, S - K)\n",
    "            elif type ==\"P\":\n",
    "                V = np.maximum(V, K - S)\n",
    "    \n",
    "    #Return value of option at t=0\n",
    "    return V[0]"
   ]
  },
  {
   "cell_type": "code",
   "execution_count": 92,
   "metadata": {
    "collapsed": true
   },
   "outputs": [],
   "source": [
    "S = 45 #original stock value\n",
    "K = 40 #strike price\n",
    "r = 0.1 #risk-free interest rate\n",
    "sigma = 0.25 #volatility\n",
    "T = 0.5\n",
    "N = 100"
   ]
  },
  {
   "cell_type": "code",
   "execution_count": 96,
   "metadata": {
    "collapsed": false
   },
   "outputs": [
    {
     "data": {
      "text/plain": [
       "0.67209940652341926"
      ]
     },
     "execution_count": 96,
     "metadata": {},
     "output_type": "execute_result"
    }
   ],
   "source": [
    "BinomialTree3(\"P\", S, K, r, sigma, T, N, american=\"false\")"
   ]
  },
  {
   "cell_type": "code",
   "execution_count": 95,
   "metadata": {
    "collapsed": false
   },
   "outputs": [
    {
     "data": {
      "text/plain": [
       "7.6229224264944868"
      ]
     },
     "execution_count": 95,
     "metadata": {},
     "output_type": "execute_result"
    }
   ],
   "source": [
    "BinomialTree3(\"C\", S, K, r, sigma, T, N, american=\"true\")"
   ]
  },
  {
   "cell_type": "code",
   "execution_count": 61,
   "metadata": {
    "collapsed": false
   },
   "outputs": [
    {
     "data": {
      "text/plain": [
       "1.0544644509285737"
      ]
     },
     "execution_count": 61,
     "metadata": {},
     "output_type": "execute_result"
    }
   ],
   "source": [
    "dt = T/N\n",
    "u = np.exp(sigma * np.sqrt(dt))\n",
    "1*u*u*u"
   ]
  },
  {
   "cell_type": "code",
   "execution_count": 84,
   "metadata": {
    "collapsed": false
   },
   "outputs": [],
   "source": [
    "    k = 40\n",
    "    S0 = 45\n",
    "    dt = T/N\n",
    "    u = np.exp(sigma * np.sqrt(dt))\n",
    "    d = 1/u\n",
    "    K = np.ones(N+1)*k #strike price array\n",
    "    a = np.exp(r * dt)\n",
    "    p = (a - d)/ (u - d)\n",
    " \n",
    "    #initialize array\n",
    "    fsB =  np.zeros(N+1)\n",
    "    #expiration Asset Prices (S)\n",
    "    fs2 = np.asarray([(S0 * u**j * d**(N - j)) for j in range(N + 1)])  "
   ]
  },
  {
   "cell_type": "code",
   "execution_count": 85,
   "metadata": {
    "collapsed": false
   },
   "outputs": [
    {
     "name": "stdout",
     "output_type": "stream",
     "text": [
      "[   0.            0.            0.            0.            0.            0.\n",
      "    0.            0.            0.            0.            0.            0.\n",
      "    0.            0.            0.            0.            0.            0.\n",
      "    0.            0.            0.            0.            0.            0.\n",
      "    0.            0.            0.            0.            0.            0.\n",
      "    0.            0.            0.            0.            0.            0.\n",
      "    0.            0.            0.            0.            0.            0.\n",
      "    0.            0.            0.            0.           -0.24018354\n",
      "   -0.74179678   -0.76777282   -0.79468368   -0.822563     -0.85144563\n",
      "   -0.88136768   -0.91236656   -0.94448103   -0.97775122   -1.01221873\n",
      "   -1.04792665   -1.08491962   -1.12324388   -1.16294735   -1.20407965\n",
      "   -1.24669222   -1.29083832   -1.33657313   -1.38395385   -1.43303968\n",
      "   -1.48389201   -1.5365744    -1.59115271   -1.64769517   -1.70627247\n",
      "   -1.76695784   -1.82982714   -1.89495896   -1.96243473   -2.03233881\n",
      "   -2.10475858   -2.17978457   -2.25751058   -2.33803378   -2.42145482\n",
      "   -2.50787801   -2.59741137   -2.69016684   -2.78626037   -2.88581209\n",
      "   -2.98894646   -3.0957924    -3.20648349   -3.32115811   -3.43995961\n",
      "   -3.56303651   -3.69054267   -3.8226375    -3.95948612   -4.10125963\n",
      "   -4.24813524   -4.40029658   -4.55793387  223.59911433]\n",
      "[   0.            0.            0.            0.            0.            0.\n",
      "    0.            0.            0.            0.            0.            0.\n",
      "    0.            0.            0.            0.            0.            0.\n",
      "    0.            0.            0.            0.            0.            0.\n",
      "    0.            0.            0.            0.            0.            0.\n",
      "    0.            0.            0.            0.            0.            0.\n",
      "    0.            0.            0.            0.            0.            0.\n",
      "    0.            0.            0.            0.            0.\n",
      "    0.47143727    1.92791405    3.4368062     5.            6.61944966\n",
      "    8.29717971   10.03528752   11.83594596   13.70140608   15.63399994\n",
      "   17.63614356   19.71033985   21.85918185   24.08535588   26.39164494\n",
      "   28.78093221   31.25620461   33.82055653   36.47719376   39.22943745\n",
      "   42.08072825   45.03463064   48.0948374    51.26517417   54.5496043\n",
      "   57.95223374   61.47731623   65.12925858   68.9126262    72.83214877\n",
      "   76.89272623   81.09943481   85.45753346   89.97247036   94.64988977\n",
      "   99.49563908  104.5157761   109.71657665  115.10454243  120.68640908\n",
      "  126.46915466  132.46000836  138.66645954  145.09626705  151.75746899\n",
      "  158.65839274  165.80766535  173.21422434  180.88732888  188.83657134\n",
      "  197.07188931  205.60357801  214.44230317  223.59911433]\n"
     ]
    }
   ],
   "source": [
    "fsA = np.clip(fs2 - K, 0, np.inf)\n",
    "fsB[:-1]=np.exp(-r * dt) * (p * fsA[1:] + (1-p) * fsA[:-1])\n",
    "print(fsA - fsB)\n",
    "print(fsA)"
   ]
  },
  {
   "cell_type": "code",
   "execution_count": 87,
   "metadata": {
    "collapsed": false
   },
   "outputs": [
    {
     "name": "stdout",
     "output_type": "stream",
     "text": [
      "[   8.10052233    8.39204207    8.69405295    9.00693254    9.33107196\n",
      "    9.66687643   10.01476576   10.37517485   10.74855426   11.13537076\n",
      "   11.53610792   11.95126673   12.38136617   12.82694393   13.28855704\n",
      "   13.76678258   14.26221839   14.77548383   15.30722055   15.85809329\n",
      "   16.42879071   17.02002625   17.63253905   18.26709481   18.92448683\n",
      "   19.60553691   20.31109647   21.04204755   21.79930392   22.58381226\n",
      "   23.39655331   24.2385431    25.11083422   26.01451716   26.95072162\n",
      "   27.920618     28.92541879   29.96638012   31.04480333   32.16203658\n",
      "   33.31947656   34.51857023   35.76081661   37.04776866   38.38103525\n",
      "   39.76228314   41.19323905   42.67569187   44.21149487   45.80256799\n",
      "   47.45090029   49.15855239   50.92765909   52.76043198   54.65916229\n",
      "   56.62622367   58.6640752    60.77526447   62.96243073   65.22830822\n",
      "   67.5757296    70.00762943   72.52704792   75.13713466   77.84115261\n",
      "   80.64248213   83.54462526   86.55121004   89.66599511   92.89287435\n",
      "   96.23588177   99.69919658  103.28714837  107.00422255  110.85506593\n",
      "  114.84449258  118.9774898   123.25922438  127.69504904  132.29050913\n",
      "  137.05134959  141.98352208  147.09319247  152.38674849  157.8708078\n",
      "  163.55222617  169.43810612  175.53580577  181.85294803  188.39743015\n",
      "  195.1774336   202.20143425  209.47821303  217.01686684  224.82682\n",
      "  232.91783596  241.30002955  249.98387959  258.98024203  268.3003635\n",
      "  277.95589536]\n"
     ]
    }
   ],
   "source": [
    "print(fs2*u*u*u)"
   ]
  }
 ],
 "metadata": {
  "kernelspec": {
   "display_name": "Python 3",
   "language": "python",
   "name": "python3"
  },
  "language_info": {
   "codemirror_mode": {
    "name": "ipython",
    "version": 3
   },
   "file_extension": ".py",
   "mimetype": "text/x-python",
   "name": "python",
   "nbconvert_exporter": "python",
   "pygments_lexer": "ipython3",
   "version": "3.4.3"
  }
 },
 "nbformat": 4,
 "nbformat_minor": 0
}
