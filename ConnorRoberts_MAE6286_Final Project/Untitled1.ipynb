{
 "cells": [
  {
   "cell_type": "code",
   "execution_count": 8,
   "metadata": {
    "collapsed": false
   },
   "outputs": [
    {
     "ename": "ImportError",
     "evalue": "cannot import name 'range'",
     "output_type": "error",
     "traceback": [
      "\u001b[1;31m---------------------------------------------------------------------------\u001b[0m",
      "\u001b[1;31mImportError\u001b[0m                               Traceback (most recent call last)",
      "\u001b[1;32m<ipython-input-8-4a34d299c80b>\u001b[0m in \u001b[0;36m<module>\u001b[1;34m()\u001b[0m\n\u001b[0;32m      1\u001b[0m \u001b[1;32mimport\u001b[0m \u001b[0mnumpy\u001b[0m \u001b[1;32mas\u001b[0m \u001b[0mnp\u001b[0m\u001b[1;33m\u001b[0m\u001b[0m\n\u001b[1;32m----> 2\u001b[1;33m \u001b[1;32mfrom\u001b[0m \u001b[0mnumpy\u001b[0m \u001b[1;32mimport\u001b[0m \u001b[0mrange\u001b[0m \u001b[1;32mas\u001b[0m \u001b[0mxrange\u001b[0m\u001b[1;33m\u001b[0m\u001b[0m\n\u001b[0m",
      "\u001b[1;31mImportError\u001b[0m: cannot import name 'range'"
     ]
    }
   ],
   "source": [
    "import numpy as np"
   ]
  },
  {
   "cell_type": "code",
   "execution_count": 9,
   "metadata": {
    "collapsed": true
   },
   "outputs": [],
   "source": [
    "def BinomialTree3(type,S0, K, r, sigma, T, N ,american=\"false\"):\n",
    "    #we improve the previous tree by checking for early exercise for american options\n",
    "   \n",
    "    #calculate delta T    \n",
    "    deltaT = float(T) / N\n",
    " \n",
    "    # up and down factor will be constant for the tree so we calculate outside the loop\n",
    "    u = np.exp(sigma * np.sqrt(deltaT))\n",
    "    d = 1.0 / u\n",
    " \n",
    "    #to work with vector we need to init the arrays using numpy\n",
    "    fs =  np.asarray([0.0 for i in range(N + 1)])\n",
    "        \n",
    "    #we need the stock tree for calculations of expiration values\n",
    "    fs2 = np.asarray([(S0 * u**j * d**(N - j)) for j in range(N + 1)])\n",
    "    \n",
    "    #we vectorize the strikes as well so the expiration check will be faster\n",
    "    fs3 =np.asarray( [float(K) for i in range(N + 1)])\n",
    "    \n",
    " \n",
    "    #rates are fixed so the probability of up and down are fixed.\n",
    "    #this is used to make sure the drift is the risk free rate\n",
    "    a = np.exp(r * deltaT)\n",
    "    p = (a - d)/ (u - d)\n",
    "    oneMinusP = 1.0 - p\n",
    " \n",
    "   \n",
    "    # Compute the leaves, f_{N, j}\n",
    "    if type ==\"C\":\n",
    "        fs[:] = np.maximum(fs2-fs3, 0.0)\n",
    "    else:\n",
    "        fs[:] = np.maximum(-fs2+fs3, 0.0)\n",
    "    \n",
    "   \n",
    "    #calculate backward the option prices\n",
    "    for i in range(N-1, -1, -1):\n",
    "       fs[:-1]=np.exp(-r * deltaT) * (p * fs[1:] + oneMinusP * fs[:-1])\n",
    "       fs2[:]=fs2[:]*u\n",
    "      \n",
    "       if american=='true':\n",
    "           #Simply check if the option is worth more alive or dead\n",
    "           if type ==\"C\":\n",
    "                fs[:]=np.maximum(fs[:],fs2[:]-fs3[:])\n",
    "           else:\n",
    "                fs[:]=np.maximum(fs[:],-fs2[:]+fs3[:])\n",
    "                \n",
    "    # print fs\n",
    "    return fs[0]"
   ]
  },
  {
   "cell_type": "code",
   "execution_count": 10,
   "metadata": {
    "collapsed": true
   },
   "outputs": [],
   "source": [
    "S = 45 #original stock value\n",
    "K = 40 #strike price\n",
    "r = 0.1 #risk-free interest rate\n",
    "sigma = 0.25 #volatility\n",
    "T = 0.5\n",
    "N = 100"
   ]
  },
  {
   "cell_type": "code",
   "execution_count": 11,
   "metadata": {
    "collapsed": false
   },
   "outputs": [
    {
     "data": {
      "text/plain": [
       "7.6229224264944868"
      ]
     },
     "execution_count": 11,
     "metadata": {},
     "output_type": "execute_result"
    }
   ],
   "source": [
    "BinomialTree3(\"C\", S, K, r, sigma, T, N, american=\"false\")"
   ]
  },
  {
   "cell_type": "code",
   "execution_count": 14,
   "metadata": {
    "collapsed": false
   },
   "outputs": [
    {
     "data": {
      "text/plain": [
       "7.6229224264944868"
      ]
     },
     "execution_count": 14,
     "metadata": {},
     "output_type": "execute_result"
    }
   ],
   "source": [
    "BinomialTree3(\"C\", S, K, r, sigma, T, N, american=\"true\")"
   ]
  }
 ],
 "metadata": {
  "kernelspec": {
   "display_name": "Python 3",
   "language": "python",
   "name": "python3"
  },
  "language_info": {
   "codemirror_mode": {
    "name": "ipython",
    "version": 3
   },
   "file_extension": ".py",
   "mimetype": "text/x-python",
   "name": "python",
   "nbconvert_exporter": "python",
   "pygments_lexer": "ipython3",
   "version": "3.4.3"
  }
 },
 "nbformat": 4,
 "nbformat_minor": 0
}
