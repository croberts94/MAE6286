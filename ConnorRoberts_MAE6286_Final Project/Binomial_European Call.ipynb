{
 "cells": [
  {
   "cell_type": "markdown",
   "metadata": {},
   "source": [
    "## Binomial ~ EC"
   ]
  },
  {
   "cell_type": "markdown",
   "metadata": {},
   "source": [
    "$f = S\\Phi(m; N, \\hat{p}) - Ke^{-rT}\\Phi(m; N,p)$ = "
   ]
  },
  {
   "cell_type": "code",
   "execution_count": 1,
   "metadata": {
    "collapsed": false
   },
   "outputs": [],
   "source": [
    "from numpy.random import binomial\n",
    "import numpy as np\n",
    "from math import factorial as fact"
   ]
  },
  {
   "cell_type": "code",
   "execution_count": 232,
   "metadata": {
    "collapsed": false
   },
   "outputs": [],
   "source": [
    "def bin_dist(a,N,p):\n",
    "    total = 0\n",
    "    for j in range(a, N+1):\n",
    "        total = total + \\\n",
    "        (fact(N)/(fact(N-j)*fact(j)))*(p**j)*(1-p)**(N-j)\n",
    "    return total"
   ]
  },
  {
   "cell_type": "code",
   "execution_count": 308,
   "metadata": {
    "collapsed": false
   },
   "outputs": [],
   "source": [
    "def binomial_val(S, K, N, r, sigma, T):\n",
    "    \n",
    "    dt = T/N\n",
    "    u = np.exp(sigma*np.sqrt(dt))\n",
    "    d = np.exp(-sigma*np.sqrt(dt))\n",
    "    p = (np.exp(r*dt) - d)/(u-d)\n",
    "    p_hat = np.exp(-r*dt)*p*u\n",
    "    A = np.log(K/(S*d**N))/np.log(u/d)\n",
    "    if A < 0:\n",
    "        a = 0\n",
    "    else:\n",
    "        a = int(np.ceil(A))\n",
    "    \n",
    "    # European call\n",
    "    f_call = S*(bin_dist(a, N, p_hat)) - \\\n",
    "    K*np.exp((-r*T))*(bin_dist(a, N, p))\n",
    "    \n",
    "    # European put\n",
    "    f_put = K*np.exp((-r*T))*(bin_dist(0, a, p)) - \\\n",
    "    S*(bin_dist(0, a, p_hat))\n",
    "    \n",
    "    \n",
    "    print(f_call)\n",
    "    print(f_put)\n",
    "    #return f    "
   ]
  },
  {
   "cell_type": "code",
   "execution_count": 296,
   "metadata": {
    "collapsed": true
   },
   "outputs": [],
   "source": [
    "S = 45 #original stock value\n",
    "K = 40 #strike price\n",
    "r = 0.1 #risk-free interest rate\n",
    "sigma = 0.25 #volatility\n",
    "T = 0.5\n",
    "N = 100"
   ]
  },
  {
   "cell_type": "code",
   "execution_count": 309,
   "metadata": {
    "collapsed": false
   },
   "outputs": [
    {
     "name": "stdout",
     "output_type": "stream",
     "text": [
      "7.62292242649\n",
      "-6.95082301997\n"
     ]
    }
   ],
   "source": [
    "binomial_val(S, K, N, r, sigma, T) #expected c:7.620, p:0.6692"
   ]
  },
  {
   "cell_type": "code",
   "execution_count": 228,
   "metadata": {
    "collapsed": false
   },
   "outputs": [
    {
     "data": {
      "text/plain": [
       "1.0000000000000004"
      ]
     },
     "execution_count": 228,
     "metadata": {},
     "output_type": "execute_result"
    }
   ],
   "source": [
    "bin_dist(20,0.1)"
   ]
  },
  {
   "cell_type": "code",
   "execution_count": 185,
   "metadata": {
    "collapsed": false
   },
   "outputs": [
    {
     "data": {
      "text/plain": [
       "0.0078125"
      ]
     },
     "execution_count": 185,
     "metadata": {},
     "output_type": "execute_result"
    }
   ],
   "source": [
    "N= 10\n",
    "p=0.5\n",
    "(1-p)**(N-j)"
   ]
  },
  {
   "cell_type": "code",
   "execution_count": 195,
   "metadata": {
    "collapsed": false
   },
   "outputs": [
    {
     "name": "stdout",
     "output_type": "stream",
     "text": [
      "0.02824752489999998\n",
      "0.12106082099999993\n",
      "0.23347444049999988\n",
      "0.2668279319999998\n",
      "0.2001209489999999\n",
      "0.10291934519999994\n",
      "0.03675690899999999\n",
      "0.009001691999999995\n",
      "0.0014467004999999993\n",
      "0.00013778099999999996\n",
      "5.9048999999999975e-06\n"
     ]
    }
   ],
   "source": [
    "N= 10\n",
    "p=0.3\n",
    "for j in range(N+1):\n",
    "    print((fact(N)/(fact(N-j)*fact(j)))*(p**j)*(1-p)**(N-j))"
   ]
  },
  {
   "cell_type": "code",
   "execution_count": 231,
   "metadata": {
    "collapsed": false
   },
   "outputs": [
    {
     "name": "stdout",
     "output_type": "stream",
     "text": [
      "2\n",
      "3\n",
      "4\n"
     ]
    }
   ],
   "source": [
    "for x in range (2,5):\n",
    "    print(x)"
   ]
  }
 ],
 "metadata": {
  "kernelspec": {
   "display_name": "Python 3",
   "language": "python",
   "name": "python3"
  },
  "language_info": {
   "codemirror_mode": {
    "name": "ipython",
    "version": 3
   },
   "file_extension": ".py",
   "mimetype": "text/x-python",
   "name": "python",
   "nbconvert_exporter": "python",
   "pygments_lexer": "ipython3",
   "version": "3.4.3"
  }
 },
 "nbformat": 4,
 "nbformat_minor": 0
}
