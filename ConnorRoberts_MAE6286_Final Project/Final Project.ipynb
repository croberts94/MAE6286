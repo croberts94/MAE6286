{
 "cells": [
  {
   "cell_type": "markdown",
   "metadata": {},
   "source": [
    "# Option Valuation using Numerical Methods\n",
    "## A Python Programming Approach"
   ]
  },
  {
   "cell_type": "markdown",
   "metadata": {},
   "source": [
    "Intro to options, explain call and put, explain vanilla (european/american), exotic (asian).  Why do we need to use numerical methods? 3 schemes used here: binomial, crank nicolson, monte carlo"
   ]
  },
  {
   "cell_type": "markdown",
   "metadata": {
    "collapsed": true
   },
   "source": [
    "There are many different kinds of assets traded in modern financial markets, nearly all falling within one of the five main categories of stock, bond, commodity, currency, or derivative.  Most folks have a basic understanding of stocks (equity in a business) and bonds (financial contracts issued by the government), and those who are more economically savvy may also be familiar with the trade of commodities (goods such as gold, oil, or grain) and currencies (investments in money, both foreign and domestic).  However, few individuals outside of the financial and academic worlds know much about derivatives.  A derivative is a financial instrument whose value is <em>derived</em> from some other asset such as a stock or commodity. To quote the English mathematician, Ian Stewart, \n",
    "<br><br>\n",
    "<em style=\"text-align: center;\">“Since the turn of the century the greatest source of growth in the financial sector has been in financial instruments known as derivatives.  Derivatives are not money, nor are they investments in stocks or shares.  They are investments in investments, promises about promises… This is finance in cloud cuckoo land, yet it had become the standard practice of the world’s banking system.”</em>\n",
    "<br><br>\n",
    "Mr. Stewart certainly a rather sour view on derivatives, but his words also help describes their importance in today’s financial landscape.   In this module,  we will learn about some basic derivatives, how they can be characterized mathematically, and how their value can be estimated using different numerical schemes."
   ]
  },
  {
   "cell_type": "markdown",
   "metadata": {},
   "source": [
    "## Keeping Our Options Open\n",
    "\n",
    "Perhaps the most common derivative is the option, in which the owner of the option has the right to <em>buy </em>the underlying asset at a specific price by a some specified date (this is called a <strong>call</strong>) or the owner has the right to <em>sell</em> underlying asset at a specific price and date (this is called a <strong>put</strong>).  The price specified in the option contract is called the strike price and the date is simply referred to as the expiration date.  For the time being, we will consider only European options, a style of option whereby the owner may only exercise the option (that is, buy or sell the underlying asset) at the expiration date and no sooner.  Letting $K$ be the strike price and $S$ be the value of the underlying asset, the payoff of an option, $V$, at expiration time can be characterized as\n",
    "\n",
    "$$V_{call} =  \\textrm{max}(S - K, 0)$$\n",
    "$$V_{put} =  \\textrm{max}(0, K - S)$$.\n",
    "\n",
    "The payoffs are described this way because if the owner does not stand to make money by exercising the option, they will opt to simply let it expire and may choose to buy or sell the asset at the market price, $S$, thereby having a payoff of $0. <br><br>\n"
   ]
  },
  {
   "cell_type": "markdown",
   "metadata": {},
   "source": [
    "Now let us put oursleves in the shoes of an trader who is trying to decided wether or not to buy (and thus become the owner of) a certain option.  We know the terms of the contract, that is the strike price and time of expiration.  We also know some facts about the current state of the market including the present value of the asset, the risk-free interest rate (i.e. how much interest money would acrue sitting in a bank), and the level of volatility in the market.  Knowing all of this, what can we calculate to be the fair price of the option? <br>\n",
    "\n",
    "As it turns out, this is no simple task. Luckily for us, in 1973 two economists named Fischer Black and Myron Scholes (with the help of a third economist, Robert Merton) derived an equation describing the price of an option over time.  The equation is\n",
    "\n",
    "$$\\frac{\\partial V}{\\partial t} + \\frac{1}{2}\\sigma^2S^2\\frac{\\partial^2V}{\\partial S^2} + rS\\frac{\\partial V}{\\partial S} - rV = 0$$\n",
    "\n",
    "where $t$ is time, $\\sigma$ is volatility, and $r$ is the risk-free interest rate.  This is pretty exciting stuff and the group was awarded the Nobel Prize in Economics in 1997 for their work.  For our purposes, we must note that the Black-Scholes equation has an analytic solution for European puts and calls, called the Black-Scholes formula and it is as follows:"
   ]
  },
  {
   "cell_type": "code",
   "execution_count": null,
   "metadata": {
    "collapsed": true
   },
   "outputs": [],
   "source": []
  }
 ],
 "metadata": {
  "kernelspec": {
   "display_name": "Python 3",
   "language": "python",
   "name": "python3"
  },
  "language_info": {
   "codemirror_mode": {
    "name": "ipython",
    "version": 3
   },
   "file_extension": ".py",
   "mimetype": "text/x-python",
   "name": "python",
   "nbconvert_exporter": "python",
   "pygments_lexer": "ipython3",
   "version": "3.4.3"
  }
 },
 "nbformat": 4,
 "nbformat_minor": 0
}
