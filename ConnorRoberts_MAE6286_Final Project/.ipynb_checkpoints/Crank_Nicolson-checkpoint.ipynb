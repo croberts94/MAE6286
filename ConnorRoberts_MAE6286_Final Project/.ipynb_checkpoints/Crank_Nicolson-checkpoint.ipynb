{
 "cells": [
  {
   "cell_type": "code",
   "execution_count": 76,
   "metadata": {
    "collapsed": true
   },
   "outputs": [],
   "source": [
    "import numpy as np\n",
    "from scipy.linalg import solve\n",
    "\n",
    "\n",
    "%matplotlib inline\n",
    "import matplotlib.pyplot as pyplot\n",
    "from matplotlib import rcParams\n",
    "rcParams['figure.dpi'] = 100\n",
    "rcParams['font.size'] = 16\n",
    "rcParams['font.family'] = 'StixGeneral'"
   ]
  },
  {
   "cell_type": "code",
   "execution_count": 187,
   "metadata": {
    "collapsed": true
   },
   "outputs": [],
   "source": [
    "def LHS_matrix(M, alpha, beta, gamma):\n",
    "    \"\"\"generate and return the LHS coefficient matrix A.\n",
    "    \n",
    "    Arguments:\n",
    "        M:       total number of spatials grids\n",
    "        alpha:   array of coefficients on lower diagnoal\n",
    "        beta:    array of coefficients on diagnoal\n",
    "        gamma:   array of coefficients on upper diagnoal\n",
    "    \n",
    "    Returns:\n",
    "        A:       LHS coefficient matrix\n",
    "    \"\"\"\n",
    "    # diagonal\n",
    "    d = np.diag(1+beta)\n",
    "    # upper diagonal\n",
    "    ud = np.diag(gamma[:-1], 1)\n",
    "    # lower diagonal\n",
    "    ld = np.diag(alpha[1:], -1)\n",
    "    \n",
    "    A = d +ud +ld\n",
    "    return A"
   ]
  },
  {
   "cell_type": "code",
   "execution_count": 174,
   "metadata": {
    "collapsed": true
   },
   "outputs": [],
   "source": [
    "def RHS(C, alpha, beta, gamma, S_max, E):\n",
    "    \"\"\"generate and return the RHS vector b.\n",
    "    \n",
    "    Arguments:\n",
    "        C:       array of the price of call option at previous time step\n",
    "        alpha:   array of coefficients on lower diagnoal\n",
    "        beta:    array of coefficients on diagnoal\n",
    "        gamma:   array of coefficients on upper diagnoal\n",
    "        S_max:   upper bound of stock price\n",
    "        E:       exercise price\n",
    "    \n",
    "    Returns:\n",
    "        b:       RHS vector\n",
    "    \"\"\"\n",
    "    # diagonal of A_star\n",
    "    d = np.diag(1-beta)\n",
    "    # upper diagonal of A_star\n",
    "    ud = np.diag(-gamma[:-1], 1)\n",
    "    # lower diagonal of A_star\n",
    "    ld = np.diag(-alpha[1:], -1)\n",
    "    \n",
    "    A_star = d + ud + ld\n",
    "    b = np.dot(A_star,C[1:-1])\n",
    "    # add BC for the right bound (the last element)\n",
    "    b[-1] += -2*gamma[-1] * (S_max-E) \n",
    "    \n",
    "    return b"
   ]
  },
  {
   "cell_type": "code",
   "execution_count": 219,
   "metadata": {
    "collapsed": true
   },
   "outputs": [],
   "source": [
    "def crank_nicolson(V, N, r, dt, sigma, S_max, K):\n",
    "    M = np.shape(V)[0] - 1\n",
    "    i = np.arange(1,M)\n",
    "    a = dt/4 * (r*i - sigma**2*i**2)\n",
    "    b = dt/2 * (r + sigma**2*i**2)\n",
    "    c = -dt/4 * (r*i + sigma**2*i**2)\n",
    "    A = np.diag(1+b) + np.diag(c[:-1], 1) + np.diag(a[1:],-1)\n",
    "    \n",
    "    for t in range(N):  \n",
    "        B = np.diag(1-b) + np.diag(-c[:-1], 1) + np.diag(-a[1:],-1)\n",
    "        B = np.dot(B,V[1:-1])\n",
    "        B[-1] += -2*c[-1] * (S_max - K)\n",
    "\n",
    "        V[1:-1] = solve(A,B)\n",
    "    \n",
    "    return V\n",
    "    "
   ]
  },
  {
   "cell_type": "code",
   "execution_count": 220,
   "metadata": {
    "collapsed": false
   },
   "outputs": [],
   "source": [
    "N = 9\n",
    "T = 0.25       # expiry time\n",
    "dt = T/N\n",
    "r = 0.1        # no-risk interest rate\n",
    "sigma = 0.4    # volatility of underlying asset\n",
    "K = 10.        # exercise price\n",
    "S_max = 4*K \n",
    "s = np.linspace(0, S_max, 201)   # spatial grid (stock's price)\n",
    "V = s - K\n",
    "V = np.clip(V, 0, S_max-K)"
   ]
  },
  {
   "cell_type": "code",
   "execution_count": 221,
   "metadata": {
    "collapsed": false
   },
   "outputs": [],
   "source": [
    "V_imp = crank_nicolson(V, N, r, dt, sigma, S_max, K)"
   ]
  },
  {
   "cell_type": "code",
   "execution_count": 222,
   "metadata": {
    "collapsed": false
   },
   "outputs": [
    {
     "data": {
      "image/png": "[encoded data removed]",
      "text/plain": [
       "<matplotlib.figure.Figure at 0x6c95128>"
      ]
     },
     "metadata": {},
     "output_type": "display_data"
    }
   ],
   "source": [
    "pyplot.figure(figsize=(8,5), dpi=100)\n",
    "pyplot.plot(s,V,color='#cd3333', ls='--', lw=3, label='Crank-Nicolson')\n",
    "pyplot.xlabel('Current Price of the Stock (S)')\n",
    "pyplot.ylabel('Price of the call option (C)')\n",
    "pyplot.legend(loc='upper left',prop={'size':15});"
   ]
  },
  {
   "cell_type": "code",
   "execution_count": 200,
   "metadata": {
    "collapsed": false
   },
   "outputs": [
    {
     "name": "stdout",
     "output_type": "stream",
     "text": [
      "[  1   2   3   4   5   6   7   8   9  10  11  12  13  14  15  16  17  18\n",
      "  19  20  21  22  23  24  25  26  27  28  29  30  31  32  33  34  35  36\n",
      "  37  38  39  40  41  42  43  44  45  46  47  48  49  50  51  52  53  54\n",
      "  55  56  57  58  59  60  61  62  63  64  65  66  67  68  69  70  71  72\n",
      "  73  74  75  76  77  78  79  80  81  82  83  84  85  86  87  88  89  90\n",
      "  91  92  93  94  95  96  97  98  99 100 101 102 103 104 105 106 107 108\n",
      " 109 110 111 112 113 114 115 116 117 118 119 120 121 122 123 124 125 126\n",
      " 127 128 129 130 131 132 133 134 135 136 137 138 139 140 141 142 143 144\n",
      " 145 146 147 148 149 150 151 152 153 154 155 156 157 158 159 160 161 162\n",
      " 163 164 165 166 167 168 169 170 171 172 173 174 175 176 177 178 179 180\n",
      " 181 182 183 184 185 186 187 188 189 190 191 192 193 194 195 196 197 198\n",
      " 199]\n"
     ]
    }
   ],
   "source": [
    "i = np.arange(1,200)\n",
    "print(i)"
   ]
  },
  {
   "cell_type": "code",
   "execution_count": 148,
   "metadata": {
    "collapsed": false
   },
   "outputs": [
    {
     "name": "stderr",
     "output_type": "stream",
     "text": [
      "C:\\Users\\croberts94\\Anaconda3\\lib\\site-packages\\matplotlib\\axes\\_axes.py:519: UserWarning: No labelled objects found. Use label='...' kwarg on individual plots.\n",
      "  warnings.warn(\"No labelled objects found. \"\n"
     ]
    },
    {
     "data": {
      "image/png": "[encoded data removed]",
      "text/plain": [
       "<matplotlib.figure.Figure at 0x7738a90>"
      ]
     },
     "metadata": {},
     "output_type": "display_data"
    }
   ],
   "source": [
    "pyplot.figure(figsize=(8,5), dpi=100)\n",
    "pyplot.plot(x,s,color='blue', ls='--', lw=3)\n",
    "pyplot.xlabel('Current Price of the Stock (S)')\n",
    "pyplot.ylabel('Price of the call option (C)')\n",
    "pyplot.legend(loc='upper left',prop={'size':15});"
   ]
  }
 ],
 "metadata": {
  "kernelspec": {
   "display_name": "Python 3",
   "language": "python",
   "name": "python3"
  },
  "language_info": {
   "codemirror_mode": {
    "name": "ipython",
    "version": 3
   },
   "file_extension": ".py",
   "mimetype": "text/x-python",
   "name": "python",
   "nbconvert_exporter": "python",
   "pygments_lexer": "ipython3",
   "version": "3.4.3"
  }
 },
 "nbformat": 4,
 "nbformat_minor": 0
}
