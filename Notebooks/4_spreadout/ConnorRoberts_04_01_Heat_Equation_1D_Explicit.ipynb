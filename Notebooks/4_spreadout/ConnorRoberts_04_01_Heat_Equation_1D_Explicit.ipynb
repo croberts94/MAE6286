{
 "cells": [
  {
   "cell_type": "code",
   "execution_count": 21,
   "metadata": {
    "collapsed": true
   },
   "outputs": [],
   "source": [
    "import numpy as np\n",
    "from matplotlib import pyplot\n",
    "%matplotlib inline\n",
    "from matplotlib import rcParams\n",
    "rcParams['font.family'] = 'serif'\n",
    "rcParams['font.size'] = 16\n",
    "\n",
    "from matplotlib import animation\n",
    "from JSAnimation.IPython_display import display_animation\n",
    "import matplotlib.pyplot as plt"
   ]
  },
  {
   "cell_type": "code",
   "execution_count": 2,
   "metadata": {
    "collapsed": true
   },
   "outputs": [],
   "source": [
    "L = 1\n",
    "nt = 100\n",
    "nx = 51\n",
    "alpha = 1.22e-3\n",
    "\n",
    "dx = L/(nx-1)\n",
    "\n",
    "Ti = np.zeros(nx)\n",
    "Ti[0] = 100"
   ]
  },
  {
   "cell_type": "code",
   "execution_count": 3,
   "metadata": {
    "collapsed": true
   },
   "outputs": [],
   "source": [
    "def ftcs(T, nt, dt, dx, alpha):\n",
    "    \"\"\"Solves the diffusion equation with forward-time, centered scheme\n",
    "    \n",
    "    Parameters:\n",
    "    ----------\n",
    "    T: array of float\n",
    "        Initial temperature profile\n",
    "    nt: int\n",
    "        Number of time steps\n",
    "    dt: float\n",
    "        Time step size\n",
    "    dx: float\n",
    "        Mesh size\n",
    "    alpha: float\n",
    "        Diffusion coefficient (thermal diffusivity)\n",
    "        \n",
    "    Returns:\n",
    "    -------\n",
    "    T: array of float\n",
    "        Temperature profile after nt time steps with forward in time scheme\n",
    "    \n",
    "    \"\"\"\n",
    "    \n",
    "    for n in range(nt):  \n",
    "        Tn = T.copy() \n",
    "        T[1:-1] = Tn[1:-1] + alpha*dt/dx**2*(Tn[2:] -2*Tn[1:-1] + Tn[0:-2])\n",
    "        \n",
    "        \n",
    "    return T"
   ]
  },
  {
   "cell_type": "code",
   "execution_count": 4,
   "metadata": {
    "collapsed": true
   },
   "outputs": [],
   "source": [
    "sigma = 0.5\n",
    "dt = sigma * dx*dx/alpha\n",
    "T = ftcs(Ti.copy(), nt, dt, dx, alpha)"
   ]
  },
  {
   "cell_type": "code",
   "execution_count": 9,
   "metadata": {
    "collapsed": false
   },
   "outputs": [
    {
     "data": {
      "image/png": "[encoded data removed]",
      "text/plain": [
       "<matplotlib.figure.Figure at 0x7426160>"
      ]
     },
     "metadata": {},
     "output_type": "display_data"
    }
   ],
   "source": [
    "pyplot.plot(np.linspace(0,1,nx), T, color='#003366', ls='-', lw=3)\n",
    "pyplot.ylim(0,100)\n",
    "pyplot.xlabel('Length of Rod')\n",
    "pyplot.ylabel('Temperature');"
   ]
  },
  {
   "cell_type": "markdown",
   "metadata": {},
   "source": [
    "## Boundary Conditions"
   ]
  },
  {
   "cell_type": "code",
   "execution_count": 36,
   "metadata": {
    "collapsed": false
   },
   "outputs": [
    {
     "ename": "SyntaxError",
     "evalue": "'return' outside function (<ipython-input-36-75bf2fe997e0>, line 7)",
     "output_type": "error",
     "traceback": [
      "\u001b[1;36m  File \u001b[1;32m\"<ipython-input-36-75bf2fe997e0>\"\u001b[1;36m, line \u001b[1;32m7\u001b[0m\n\u001b[1;33m    return Tn2\u001b[0m\n\u001b[1;37m    ^\u001b[0m\n\u001b[1;31mSyntaxError\u001b[0m\u001b[1;31m:\u001b[0m 'return' outside function\n"
     ]
    }
   ],
   "source": [
    "nt = 1000\n",
    "Tn2 = np.zeros((nt,len(Ti)))\n",
    "Tn2[0,:] = Ti.copy()\n",
    "\n",
    "for t in range(1,nt):    \n",
    "    Tn2[t,:] = ftcs(Ti.copy(), t, dt, dx, alpha)"
   ]
  },
  {
   "cell_type": "code",
   "execution_count": 35,
   "metadata": {
    "collapsed": false
   },
   "outputs": [
    {
     "name": "stdout",
     "output_type": "stream",
     "text": [
      "[[ 100.            0.            0.         ...,    0.            0.            0.        ]\n",
      " [ 100.           50.            0.         ...,    0.            0.            0.        ]\n",
      " [ 100.           50.           25.         ...,    0.            0.            0.        ]\n",
      " ..., \n",
      " [ 100.           97.44139892   94.88279784 ...,    2.88872547\n",
      "     1.44436273    0.        ]\n",
      " [ 100.           97.44139892   94.88723745 ...,    2.89307197\n",
      "     1.44436273    0.        ]\n",
      " [ 100.           97.44361872   94.88723745 ...,    2.89307197\n",
      "     1.44653598    0.        ]]\n"
     ]
    }
   ],
   "source": [
    "print(Tn2)"
   ]
  },
  {
   "cell_type": "code",
   "execution_count": 23,
   "metadata": {
    "collapsed": false
   },
   "outputs": [],
   "source": [
    "def animate(data):\n",
    "    x = np.linspace(0,1,nx)\n",
    "    y = data\n",
    "    line.set_data(x,y)\n",
    "    return line,"
   ]
  },
  {
   "cell_type": "code",
   "execution_count": null,
   "metadata": {
    "collapsed": true
   },
   "outputs": [],
   "source": [
    "fig = plt.figure();\n",
    "ax = plt.axes(xlim=(0.0,1.0),ylim=(0,100));\n",
    "line, = ax.plot([],[],lw=2);\n",
    "\n",
    "anim = animation.FuncAnimation(fig, animate, frames=Tn2, interval=50)\n",
    "display_animation(anim, default_mode='once')"
   ]
  },
  {
   "cell_type": "markdown",
   "metadata": {},
   "source": [
    "### Neumann Boundary"
   ]
  },
  {
   "cell_type": "code",
   "execution_count": 37,
   "metadata": {
    "collapsed": true
   },
   "outputs": [],
   "source": [
    "def ftcs_mixed(T, nt, dt, dx, alpha):\n",
    "    \"\"\"Solves the diffusion equation with forward-time, centered scheme using\n",
    "    Dirichlet b.c. at left boundary and Neumann b.c. at right boundary\n",
    "    \n",
    "    Parameters:\n",
    "    ----------\n",
    "    u: array of float\n",
    "        Initial temperature profile\n",
    "    nt: int\n",
    "        Number of time steps\n",
    "    dt: float\n",
    "        Time step size\n",
    "    dx: float\n",
    "        Mesh size\n",
    "    alpha: float\n",
    "        Diffusion coefficient (thermal diffusivity)\n",
    "        \n",
    "    Returns:\n",
    "    -------\n",
    "    u: array of float\n",
    "        Temperature profile after nt time steps with forward in time scheme\n",
    "    \n",
    "    \"\"\"\n",
    "    for n in range(nt):  \n",
    "        Tn = T.copy() \n",
    "        T[1:-1] = Tn[1:-1] + alpha*dt/dx**2*(Tn[2:] -2*Tn[1:-1] + Tn[0:-2])\n",
    "        T[-1] = T[-2]\n",
    "        \n",
    "    return T"
   ]
  },
  {
   "cell_type": "code",
   "execution_count": 38,
   "metadata": {
    "collapsed": true
   },
   "outputs": [],
   "source": [
    "nt = 1000\n",
    "T = ftcs_mixed(Ti.copy(), nt, dt, dx, alpha)"
   ]
  },
  {
   "cell_type": "code",
   "execution_count": 39,
   "metadata": {
    "collapsed": false
   },
   "outputs": [
    {
     "data": {
      "image/png": "[encoded data removed]",
      "text/plain": [
       "<matplotlib.figure.Figure at 0x970470>"
      ]
     },
     "metadata": {},
     "output_type": "display_data"
    }
   ],
   "source": [
    "pyplot.plot(np.linspace(0,1,nx), T, color='#003366', ls='-', lw=3)\n",
    "pyplot.ylim(0,100)\n",
    "pyplot.title('Rod with LHS Dirichlet B.C. and RHS Neumann B.C.\\n')\n",
    "pyplot.xlabel('Length of Rod')\n",
    "pyplot.ylabel('Temperature');"
   ]
  },
  {
   "cell_type": "code",
   "execution_count": 40,
   "metadata": {
    "collapsed": false
   },
   "outputs": [
    {
     "data": {
      "image/png": "[encoded data removed]",
      "text/plain": [
       "<matplotlib.figure.Figure at 0x675ac8>"
      ]
     },
     "metadata": {},
     "output_type": "display_data"
    }
   ],
   "source": [
    "nt = 5000\n",
    "T = ftcs_mixed(Ti.copy(), nt, dt, dx, alpha)\n",
    "\n",
    "pyplot.plot(np.linspace(0,1,nx), T, color='#003366', ls='-', lw=3)\n",
    "pyplot.ylim(0,100)\n",
    "pyplot.title('Rod with LHS Dirichlet B.C. and RHS Neumann B.C.\\n')\n",
    "pyplot.xlabel('Length of Rod')\n",
    "pyplot.ylabel('Temperature');"
   ]
  },
  {
   "cell_type": "code",
   "execution_count": null,
   "metadata": {
    "collapsed": true
   },
   "outputs": [],
   "source": []
  },
  {
   "cell_type": "code",
   "execution_count": 10,
   "metadata": {
    "collapsed": false
   },
   "outputs": [
    {
     "data": {
      "text/html": [
       "<link href='http://fonts.googleapis.com/css?family=Alegreya+Sans:100,300,400,500,700,800,900,100italic,300italic,400italic,500italic,700italic,800italic,900italic' rel='stylesheet' type='text/css'>\n",
       "<link href='http://fonts.googleapis.com/css?family=Arvo:400,700,400italic' rel='stylesheet' type='text/css'>\n",
       "<link href='http://fonts.googleapis.com/css?family=PT+Mono' rel='stylesheet' type='text/css'>\n",
       "<link href='http://fonts.googleapis.com/css?family=Shadows+Into+Light' rel='stylesheet' type='text/css'>\n",
       "<link href='http://fonts.googleapis.com/css?family=Nixie+One' rel='stylesheet' type='text/css'>\n",
       "<style>\n",
       "\n",
       "@font-face {\n",
       "    font-family: \"Computer Modern\";\n",
       "    src: url('http://mirrors.ctan.org/fonts/cm-unicode/fonts/otf/cmunss.otf');\n",
       "}\n",
       "\n",
       "#notebook_panel { /* main background */\n",
       "   /*background-image: url(\"C:\\Users\\croberts94\\Desktop\\Linkedin_Profpic.png\");\n",
       "    background-repeat: repeat;*/\n",
       "    background-color: blue;\n",
       "}\n",
       "\n",
       "#ipython-main-app {\n",
       "    background: blue;\n",
       "    height: 0%;\n",
       "}\n",
       "\n",
       "#notebook-container {\n",
       " background: rgb(227,236,242);/*rgb(255,218,152);*/\n",
       " border: 3px solid rgb(0,51,102);\n",
       " width: 100%;\n",
       "}\n",
       "\n",
       "div.cell { /* set cell width */\n",
       "    width: 750px;\n",
       "}\n",
       "\n",
       "div #notebook { /* centre the content */\n",
       "    background: white; /* white background for content */\n",
       "    width: 1000px;\n",
       "    margin: auto;\n",
       "    padding-left: 0em;\n",
       "}\n",
       "\n",
       "#notebook li { /* More space between bullet points */\n",
       "    margin-top:0.8em;\n",
       "}\n",
       "\n",
       "/* draw border around running cells */\n",
       "div.cell.border-box-sizing.code_cell.running { \n",
       "    border: 1px http://localhost:8888/edit/Desktop/GitHub/MAE6286/connor_style.css#solid #111;\n",
       "}\n",
       "\n",
       "/* Put a solid color box around each cell and its output, visually linking them*/\n",
       "div.cell.code_cell {\n",
       "    background-color: rgb(227,236,242); \n",
       "    border-radius: 0px; \n",
       "    padding: 0.5em;\n",
       "    margin-left:1em;\n",
       "    margin-top: 1em;\n",
       "}\n",
       "\n",
       "div.text_cell_render{\n",
       "    font-family: 'Alegreya Sans' sans-serif;\n",
       "    line-height: 140%;\n",
       "    font-size: 125%;\n",
       "    font-weight: 400;\n",
       "    width:100%;\n",
       "    margin-left:1em;\n",
       "    margin-right:auto;\n",
       "}\n",
       "\n",
       "\n",
       "/* Formatting for header cells */\n",
       ".text_cell_render h1 {\n",
       "    font-family: 'Nixie One', serif;\n",
       "    text-decoration: underline;\n",
       "    /*border-bottom: 5px solid rgb(0,51,102);*/\n",
       "    font-weight: 400;    \n",
       "    font-size: 40pt;\n",
       "    line-height: 100%;\n",
       "    color: rgb(0,51,102);\n",
       "    margin-bottom: 0.5em;\n",
       "    margin-top: 0.5em;\n",
       "    display: block;\n",
       "    /*margin-left: -1em;*/\n",
       "    }\n",
       "\n",
       ".text_cell_render h2 {\n",
       "    font-family: 'Nixie One', serif;\n",
       "    font-weight: 400;\n",
       "    font-size: 30pt;\n",
       "    line-height: 100%;\n",
       "    color: rgb(0,51,102);\n",
       "    font-style: bold;\n",
       "    margin-bottom: 0.1em;\n",
       "    margin-top: 0.3em;\n",
       "    display: block;\n",
       "}\t\n",
       "\n",
       ".text_cell_render h3 {\n",
       "    font-family: 'Nixie One', serif;\n",
       "    margin-top:16px;\n",
       "    font-size: 22pt;\n",
       "    font-weight: 600;\n",
       "    margin-bottom: 3px;\n",
       "    font-style: regular;\n",
       "    color: rgb(102,102,0);\n",
       "}\n",
       "\n",
       ".text_cell_render h4 {    /*Use this for captions*/\n",
       "    font-family: 'Nixie One', serif;\n",
       "    font-size: 14pt;\n",
       "    text-align: center;\n",
       "    margin-top: 0em;\n",
       "    margin-bottom: 2em;\n",
       "    font-style: regular;\n",
       "}\n",
       "\n",
       ".text_cell_render h5 {  /*Use this for small titles*/\n",
       "    font-family: 'Nixie One', sans-serif;\n",
       "    font-weight: 400;\n",
       "    font-size: 16pt;\n",
       "    color: rgb(163,0,0);\n",
       "    font-style: italic;\n",
       "    margin-bottom: .1em;\n",
       "    margin-top: 0.8em;\n",
       "    display: block;\n",
       "}\n",
       "\n",
       ".text_cell_render h6 { /*use this for copyright note*/\n",
       "    font-family: 'PT Mono', sans-serif;\n",
       "    font-weight: 300;\n",
       "    font-size: 9pt;\n",
       "    line-height: 100%;\n",
       "    color: grey;\n",
       "    margin-bottom: 1px;\n",
       "    margin-top: 1px;\n",
       "}\n",
       "\n",
       ".CodeMirror{\n",
       "    font-family: \"PT Mono\";\n",
       "    font-size: 90%;\n",
       "}\n",
       "\n",
       "</style>\n",
       "<script>\n",
       "    MathJax.Hub.Config({\n",
       "                        TeX: {\n",
       "                           extensions: [\"AMSmath.js\"],\n",
       "                           equationNumbers: { autoNumber: \"AMS\", useLabelIds: true}\n",
       "                           },\n",
       "                tex2jax: {\n",
       "                    inlineMath: [ ['$','$'], [\"\\\\(\",\"\\\\)\"] ],\n",
       "                    displayMath: [ ['$$','$$'], [\"\\\\[\",\"\\\\]\"] ]\n",
       "                },\n",
       "                displayAlign: 'center', // Change this to 'center' to center equations.\n",
       "                \"HTML-CSS\": {\n",
       "                    styles: {'.MathJax_Display': {\"margin\": 4}}\n",
       "                }\n",
       "        });\n",
       "</script>\n"
      ],
      "text/plain": [
       "<IPython.core.display.HTML object>"
      ]
     },
     "execution_count": 10,
     "metadata": {},
     "output_type": "execute_result"
    }
   ],
   "source": [
    "# Execute this cell to load the notebook's style sheet, then ignore it\n",
    "from IPython.core.display import HTML\n",
    "css_file = 'C:\\\\Users\\\\croberts94\\\\Desktop\\\\GitHub\\\\MAE6286\\\\connor_style.css'\n",
    "HTML(open(css_file, \"r\").read())"
   ]
  }
 ],
 "metadata": {
  "kernelspec": {
   "display_name": "Python 3",
   "language": "python",
   "name": "python3"
  },
  "language_info": {
   "codemirror_mode": {
    "name": "ipython",
    "version": 3
   },
   "file_extension": ".py",
   "mimetype": "text/x-python",
   "name": "python",
   "nbconvert_exporter": "python",
   "pygments_lexer": "ipython3",
   "version": "3.4.3"
  }
 },
 "nbformat": 4,
 "nbformat_minor": 0
}
