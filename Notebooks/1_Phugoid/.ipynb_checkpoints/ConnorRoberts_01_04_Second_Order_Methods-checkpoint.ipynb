{
 "cells": [
  {
   "cell_type": "markdown",
   "metadata": {},
   "source": [
    "# Phugoid Model: Bonus"
   ]
  },
  {
   "cell_type": "markdown",
   "metadata": {},
   "source": [
    "## Phugoid Model with 2$^{nd}$-order Runge-Kutta Method"
   ]
  },
  {
   "cell_type": "code",
   "execution_count": 19,
   "metadata": {
    "collapsed": true
   },
   "outputs": [],
   "source": [
    "from math import sin, cos, log, ceil\n",
    "import numpy as np\n",
    "from matplotlib import pyplot\n",
    "%matplotlib inline\n",
    "from matplotlib import rcParams\n",
    "rcParams['font.family'] = 'serif'\n",
    "rcParams['font.size'] = 16"
   ]
  },
  {
   "cell_type": "code",
   "execution_count": 5,
   "metadata": {
    "collapsed": true
   },
   "outputs": [],
   "source": [
    "# model parameters:\n",
    "g = 9.8      # gravity in m s^{-2}\n",
    "v_t = 4.9    # trim velocity in m s^{-1}   \n",
    "C_D = 1/5.0  # drag coefficient --- or D/L if C_L=1\n",
    "C_L = 1.0    # for convenience, use C_L = 1\n",
    "\n",
    "### set initial conditions ###\n",
    "v0 = 6.5     # start at the trim velocity (or add a delta)\n",
    "theta0 = -0.1 # initial angle of trajectory\n",
    "x0 = 0.0     # horizotal position is arbitrary\n",
    "y0 = 2.0     # initial altitude"
   ]
  },
  {
   "cell_type": "code",
   "execution_count": 6,
   "metadata": {
    "collapsed": true
   },
   "outputs": [],
   "source": [
    "#Function to return the right-hand side of the phugoid system of equations.\n",
    "def f(u):\n",
    "    \n",
    "    v = u[0]\n",
    "    theta = u[1]\n",
    "    x = u[2]\n",
    "    y = u[3]\n",
    "    return np.array([-g*sin(theta) - (C_D/C_L)*(g/v_t**2)*v**2,\n",
    "                      -(g/v)*cos(theta) + (g/v_t**2)*v,\n",
    "                      v*cos(theta),\n",
    "                      v*sin(theta)])"
   ]
  },
  {
   "cell_type": "code",
   "execution_count": 7,
   "metadata": {
    "collapsed": true
   },
   "outputs": [],
   "source": [
    "def euler_step(u, f, dt):\n",
    "    return u + dt * f(u)"
   ]
  },
  {
   "cell_type": "code",
   "execution_count": 8,
   "metadata": {
    "collapsed": true
   },
   "outputs": [],
   "source": [
    "def get_diffgrid(u_current, u_fine, dt):\n",
    "    \n",
    "    N_current = np.shape(u_current)[0] #count rows in current grid\n",
    "    N_fine = np.shape(u_fine)[0] #count rows in fine grid\n",
    "    \n",
    "    grid_size_ratio = ceil(N_fine/N_current)\n",
    "    \n",
    "    diffgrid = dt * np.sum(np.abs(u_current[:,2] - u_fine[::grid_size_ratio,2]))\n",
    "    \n",
    "    return diffgrid"
   ]
  },
  {
   "cell_type": "code",
   "execution_count": 9,
   "metadata": {
    "collapsed": true
   },
   "outputs": [],
   "source": [
    "#Returns the solution at the next time-step using 2nd-order Runge-Kutta.\n",
    "def rk2_step(u, f, dt):\n",
    "    u_star = u + 0.5*dt*f(u)\n",
    "    return u + dt*f(u_star)"
   ]
  },
  {
   "cell_type": "code",
   "execution_count": 10,
   "metadata": {
    "collapsed": true
   },
   "outputs": [],
   "source": [
    "# set time-increment and discretize the time\n",
    "T  = 15.0                           # final time\n",
    "dt = 0.01                           # set time-increment\n",
    "N  = int(T/dt) + 1                  # number of time-steps\n",
    "\n",
    "\n",
    "# set initial conditions\n",
    "u_euler = np.empty((N, 4))\n",
    "u_rk2   = np.empty((N, 4))\n",
    "\n",
    "\n",
    "# initialize the array containing the solution for each time-step\n",
    "u_euler[0] = np.array([v0, theta0, x0, y0])\n",
    "u_rk2[0]   = np.array([v0, theta0, x0, y0])\n",
    "\n",
    "# perfrom euler and rk method\n",
    "for n in range(N-1):\n",
    "    u_euler[n+1] = euler_step(u_euler[n], f, dt)\n",
    "    u_rk2[n+1]   = rk2_step(u_rk2[n], f, dt)"
   ]
  },
  {
   "cell_type": "code",
   "execution_count": 11,
   "metadata": {
    "collapsed": true
   },
   "outputs": [],
   "source": [
    "#extract position of giler in time according to each method\n",
    "x_euler = u_euler[:,2]\n",
    "y_euler = u_euler[:,3]\n",
    "x_rk2 = u_rk2[:,2]\n",
    "y_rk2 = u_rk2[:,3]"
   ]
  },
  {
   "cell_type": "code",
   "execution_count": 13,
   "metadata": {
    "collapsed": false
   },
   "outputs": [],
   "source": [
    "#find the index of y where altitude becomes negative\n",
    "idx_negative_euler = np.where(y_euler<0.0)[0]\n",
    "if len(idx_negative_euler)==0:\n",
    "    idx_ground_euler = N-1\n",
    "    print ('Euler integration has not touched ground yet!')\n",
    "else:\n",
    "    idx_ground_euler = idx_negative_euler[0]\n",
    "    \n",
    "idx_negative_rk2 = np.where(y_rk2<0.0)[0]\n",
    "if len(idx_negative_rk2)==0:\n",
    "    idx_ground_rk2 = N-1\n",
    "    print ('Runge-Kutta integration has not touched ground yet!')\n",
    "else:\n",
    "    idx_ground_rk2 = idx_negative_rk2[0]"
   ]
  },
  {
   "cell_type": "code",
   "execution_count": 14,
   "metadata": {
    "collapsed": false
   },
   "outputs": [
    {
     "name": "stdout",
     "output_type": "stream",
     "text": [
      "Are the x-values close? False\n",
      "Are the y-values close? False\n"
     ]
    }
   ],
   "source": [
    "# check to see if the paths match\n",
    "# default tolerance is 10^{-5}\n",
    "print('Are the x-values close? {}'.format(np.allclose(x_euler, x_rk2)))\n",
    "print('Are the y-values close? {}'.format(np.allclose(y_euler, y_rk2)))"
   ]
  },
  {
   "cell_type": "code",
   "execution_count": 15,
   "metadata": {
    "collapsed": false
   },
   "outputs": [
    {
     "data": {
      "image/png": "[encoded data removed]",
      "text/plain": [
       "<matplotlib.figure.Figure at 0x10ea438>"
      ]
     },
     "metadata": {},
     "output_type": "display_data"
    }
   ],
   "source": [
    "# plot the glider path\n",
    "pyplot.figure(figsize=(10,6))\n",
    "pyplot.subplot(121)\n",
    "pyplot.grid(True)\n",
    "pyplot.xlabel('$x$')\n",
    "pyplot.ylabel('$y$')\n",
    "pyplot.plot(x_euler[:idx_ground_euler], y_euler[:idx_ground_euler], 'k-', label='Euler')\n",
    "pyplot.plot(x_rk2[:idx_ground_rk2], y_rk2[:idx_ground_rk2], 'r--', label='RK2')\n",
    "pyplot.title('distance traveled: {:.3f}'.format(x_rk2[idx_ground_rk2-1]))\n",
    "pyplot.legend();\n",
    "\n",
    "# Let's take a closer look!\n",
    "pyplot.subplot(122)\n",
    "pyplot.grid(True)\n",
    "pyplot.xlabel('$x$')\n",
    "pyplot.ylabel('$y$')\n",
    "pyplot.plot(x_euler, y_euler, 'k-', label='Euler')\n",
    "pyplot.plot(x_rk2, y_rk2, 'r--', label='RK2')\n",
    "pyplot.xlim(0,5)\n",
    "pyplot.ylim(1.8,2.5);"
   ]
  },
  {
   "cell_type": "markdown",
   "metadata": {},
   "source": [
    "## Grid Convergence "
   ]
  },
  {
   "cell_type": "code",
   "execution_count": 17,
   "metadata": {
    "collapsed": false
   },
   "outputs": [],
   "source": [
    "# use a for-loop to compute the solution on different grids\n",
    "dt_values = np.array([0.1, 0.05, 0.01, 0.005, 0.001])\n",
    "\n",
    "u_values = np.empty_like(dt_values, dtype=np.ndarray)\n",
    "\n",
    "for i, dt in enumerate(dt_values):\n",
    "   \n",
    "    ### discretize the time t ###\n",
    "    t = np.arange(0.0, T+dt, dt)\n",
    "    N= len(t)\n",
    "    \n",
    "    # initialize the array containing the solution for each time-step\n",
    "    u = np.empty((N, 4))\n",
    "    u[0] = np.array([v0, theta0, x0, y0])\n",
    "\n",
    "    # time loop\n",
    "    for n in range(N-1):\n",
    "        u[n+1] = rk2_step(u[n], f, dt)\n",
    "    \n",
    "    # store the value of u related to one grid\n",
    "    u_values[i] = u"
   ]
  },
  {
   "cell_type": "code",
   "execution_count": 20,
   "metadata": {
    "collapsed": false
   },
   "outputs": [],
   "source": [
    "# compute diffgrid\n",
    "diffgrid = np.empty_like(dt_values)\n",
    "for i, dt in enumerate(dt_values):\n",
    "\n",
    "    diffgrid[i] = get_diffgrid(u_values[i], u_values[-1], dt)"
   ]
  },
  {
   "cell_type": "code",
   "execution_count": 21,
   "metadata": {
    "collapsed": false
   },
   "outputs": [
    {
     "data": {
      "image/png": "[encoded data removed]",
      "text/plain": [
       "<matplotlib.figure.Figure at 0x10a8320>"
      ]
     },
     "metadata": {},
     "output_type": "display_data"
    }
   ],
   "source": [
    "# plot using the matplotlib function loglog()\n",
    "pyplot.figure(figsize=(6,6))\n",
    "pyplot.grid(True)\n",
    "pyplot.xlabel(r'$\\Delta t$', fontsize=18)\n",
    "pyplot.ylabel(r'$L_1$-norm of the grid differences', fontsize=18)\n",
    "pyplot.xlim(1e-4,1)\n",
    "pyplot.ylim(1e-4,1)\n",
    "pyplot.axis('equal')\n",
    "pyplot.loglog(dt_values[:-1], diffgrid[:-1], color='k', ls='--', lw=2, marker='o');"
   ]
  },
  {
   "cell_type": "code",
   "execution_count": 26,
   "metadata": {
    "collapsed": false
   },
   "outputs": [
    {
     "name": "stdout",
     "output_type": "stream",
     "text": [
      "The order of convergence is alpha = 1.983\n"
     ]
    }
   ],
   "source": [
    "# check convergence rate\n",
    "r = 2\n",
    "h = 0.001\n",
    "\n",
    "dt_values = np.array([h, r*h, r**2*h])\n",
    "\n",
    "u_values = np.empty_like(dt_values, dtype=np.ndarray)\n",
    "\n",
    "for i, dt in enumerate(dt_values):\n",
    "    \n",
    "    ### discretize the time t ###\n",
    "    t = np.arange(0.0, T+dt, dt)\n",
    "    N= len(t)\n",
    "    \n",
    "    # initialize the array containing the solution for each time-step\n",
    "    u = np.empty((N, 4))\n",
    "    u[0] = np.array([v0, theta0, x0, y0])\n",
    "\n",
    "    # time loop\n",
    "    for n in range(N-1):\n",
    "        ### call rk2_step() ###\n",
    "        u[n+1] = rk2_step(u[n], f, dt)\n",
    "    \n",
    "    # store the value of u related to one grid\n",
    "    u_values[i] = u\n",
    "    \n",
    "# calculate the order of convergence\n",
    "alpha = (log(get_diffgrid(u_values[2], u_values[1], dt_values[2])) \n",
    "         - log(get_diffgrid(u_values[1], u_values[0], dt_values[1]))) / log(r)\n",
    "\n",
    "print('The order of convergence is alpha = %.3f' %alpha)\n"
   ]
  },
  {
   "cell_type": "markdown",
   "metadata": {},
   "source": [
    "## Challenge"
   ]
  },
  {
   "cell_type": "markdown",
   "metadata": {},
   "source": [
    "How much longer does it take to get the solution with RK2, compared to Euler's method? Run the same solution (same time grid, same parameters), but find a way to time the calculation with Python, and compare the runtimes."
   ]
  },
  {
   "cell_type": "code",
   "execution_count": 30,
   "metadata": {
    "collapsed": false
   },
   "outputs": [],
   "source": [
    "# set time-increment and discretize the time\n",
    "T  = 15.0                           # final time\n",
    "dt = 0.01                           # set time-increment\n",
    "N  = int(T/dt) + 1                  # number of time-steps\n",
    "\n",
    "\n",
    "# set initial conditions\n",
    "u_euler = np.empty((N, 4))\n",
    "u_rk2   = np.empty((N, 4))\n",
    "\n",
    "\n",
    "# initialize the array containing the solution for each time-step\n",
    "u_euler[0] = np.array([v0, theta0, x0, y0])\n",
    "u_rk2[0]   = np.array([v0, theta0, x0, y0])\n",
    "\n"
   ]
  },
  {
   "cell_type": "code",
   "execution_count": 34,
   "metadata": {
    "collapsed": false
   },
   "outputs": [
    {
     "name": "stdout",
     "output_type": "stream",
     "text": [
      "10 loops, best of 3: 53.2 ms per loop\n"
     ]
    }
   ],
   "source": [
    "%%timeit\n",
    "for n in range(N-1):\n",
    "    u_euler[n+1] = euler_step(u_euler[n], f, dt) #euler method"
   ]
  },
  {
   "cell_type": "code",
   "execution_count": 33,
   "metadata": {
    "collapsed": false
   },
   "outputs": [
    {
     "name": "stdout",
     "output_type": "stream",
     "text": [
      "10 loops, best of 3: 99.1 ms per loop\n"
     ]
    }
   ],
   "source": [
    "%%timeit\n",
    "for n in range(N-1):\n",
    "    u_rk2[n+1]   = rk2_step(u_rk2[n], f, dt) #rk method"
   ]
  },
  {
   "cell_type": "markdown",
   "metadata": {},
   "source": [
    "Using $\\texttt{%%timeit}$, it can be seen that using the Runge-Kutta method takes almost <u>twice as long</u> as the Euler method. This is the price of the increased accuracy."
   ]
  },
  {
   "cell_type": "markdown",
   "metadata": {},
   "source": [
    "## Multi-step Method"
   ]
  },
  {
   "cell_type": "code",
   "execution_count": 35,
   "metadata": {
    "collapsed": true
   },
   "outputs": [],
   "source": [
    "def leapfrog_step(unm1, u, f, dt):\n",
    "    \"\"\"Returns the solution time-step n+1) using Euler's method.\n",
    "    \n",
    "    Parameters\n",
    "    ----------\n",
    "    unm1 : array of float\n",
    "        solution at time-step n-1.\n",
    "    u : array of float\n",
    "        solution at time-step n.\n",
    "    f : function\n",
    "        function to compute the right hand-side of the system of equation.\n",
    "    dt : float\n",
    "        time-increment.\n",
    "        \"\"\"\n",
    "    return unm1 + 2*dt*f(u)"
   ]
  },
  {
   "cell_type": "code",
   "execution_count": 56,
   "metadata": {
    "collapsed": true
   },
   "outputs": [],
   "source": [
    "# model parameters:\n",
    "g = 9.8      # gravity in m s^{-2}\n",
    "v_t = 4.9    # trim velocity in m s^{-1}   \n",
    "C_D = 1/5.0  # drag coefficient --- or D/L if C_L=1\n",
    "C_L = 1.0    # for convenience, use C_L = 1\n",
    "\n",
    "### set initial conditions ###\n",
    "v0 = 6.5     # start at the trim velocity (or add a delta)\n",
    "theta0 = -0.1 # initial angle of trajectory\n",
    "x0 = 0.0     # horizotal position is arbitrary\n",
    "y0 = 25     # initial altitude\n",
    "\n",
    "# set time-increment and discretize the time\n",
    "T  = 15.0                           # final time\n",
    "dt = 0.01                             # set time-increment\n",
    "N  = int(T/dt) + 1                   # number of time-steps\n",
    "\n",
    "# set initial conditions\n",
    "u_leapfrog = np.empty((N, 4))\n",
    "\n",
    "# initialize the array containing the solution for each time-step\n",
    "u_leapfrog[0] = np.array([v0, theta0, x0, y0])\n",
    "\n",
    "# first step using RK2\n",
    "u_leapfrog[1] = rk2_step(u_leapfrog[0], f, dt)\n",
    "##NEW CODE\n",
    "u_leapfrog[2] = rk2_step(u_leapfrog[1], f, dt)"
   ]
  },
  {
   "cell_type": "code",
   "execution_count": 57,
   "metadata": {
    "collapsed": false
   },
   "outputs": [],
   "source": [
    "# use a for loop to call the function leapfrog_step()\n",
    "for n in range(2,N-1):\n",
    "    \n",
    "    u_leapfrog[n+1] = leapfrog_step(u_leapfrog[n-1], u_leapfrog[n], f, dt)"
   ]
  },
  {
   "cell_type": "code",
   "execution_count": 58,
   "metadata": {
    "collapsed": false
   },
   "outputs": [
    {
     "name": "stdout",
     "output_type": "stream",
     "text": [
      "The glider has not reached the ground yet!\n"
     ]
    }
   ],
   "source": [
    "# get the glider position in time\n",
    "x_leapfrog = u_leapfrog[:,2]\n",
    "y_leapfrog = u_leapfrog[:,3]\n",
    "\n",
    "# get the index of element of y where altitude becomes negative\n",
    "idx_negative_leapfrog = np.where(y_leapfrog<0.0)[0]\n",
    "\n",
    "if len(idx_negative_leapfrog)==0:\n",
    "    idx_ground_leapfrog = N-1\n",
    "    print ('The glider has not reached the ground yet!')\n",
    "else:\n",
    "    idx_ground_leapfrog = idx_negative_leapfrog[0]"
   ]
  },
  {
   "cell_type": "code",
   "execution_count": 59,
   "metadata": {
    "collapsed": false
   },
   "outputs": [
    {
     "data": {
      "image/png": "[encoded data removed]",
      "text/plain": [
       "<matplotlib.figure.Figure at 0xe8a8d0>"
      ]
     },
     "metadata": {},
     "output_type": "display_data"
    }
   ],
   "source": [
    "# plot the glider path\n",
    "pyplot.figure(figsize=(11,8))\n",
    "pyplot.subplot(121)\n",
    "pyplot.grid(True)\n",
    "pyplot.xlabel('$x$')\n",
    "pyplot.ylabel('$y$')\n",
    "pyplot.plot(x_leapfrog[:idx_ground_leapfrog], y_leapfrog[:idx_ground_leapfrog], color='k', ls='-', lw=2)\n",
    "#pyplot.title('distance traveled: {:.3f}'.format(x_leapfrog[idx_ground_leapfrog-1]), fontsize=18);\n",
    "\n",
    "# Let's take a closer look!\n",
    "pyplot.subplot(122)\n",
    "pyplot.grid(True)\n",
    "pyplot.xlabel('$x$')\n",
    "pyplot.ylabel('$y$')\n",
    "pyplot.plot(x_leapfrog[:idx_ground_leapfrog], y_leapfrog[:idx_ground_leapfrog], color='k', ls=':', lw=2)\n",
    "pyplot.plot(x_rk2, y_rk2, 'r--', label='RK2')\n",
    "pyplot.xlim(3,5)\n",
    "pyplot.ylim(25.3,25.5);"
   ]
  },
  {
   "cell_type": "code",
   "execution_count": 45,
   "metadata": {
    "collapsed": false
   },
   "outputs": [
    {
     "name": "stdout",
     "output_type": "stream",
     "text": [
      "The order of convergence is alpha = 2.186\n"
     ]
    }
   ],
   "source": [
    "# check convergence rate\n",
    "r = 2\n",
    "h = 0.001\n",
    "\n",
    "dt_values = np.array([h, r*h, r**2*h])\n",
    "\n",
    "u_values = np.empty_like(dt_values, dtype=np.ndarray)\n",
    "\n",
    "for i, dt in enumerate(dt_values):\n",
    "    \n",
    "    ### discretize the time t ###\n",
    "    t = np.arange(0.0, T+dt, dt)\n",
    "    N= len(t)\n",
    "    \n",
    "    # initialize the array containing the solution for each time-step\n",
    "    u = np.empty((N, 4))\n",
    "    u[0] = np.array([v0, theta0, x0, y0])\n",
    "\n",
    "    # time loop\n",
    "    u[1] = rk2_step(u[0], f, dt)\n",
    "    for n in range(1, N-1):\n",
    "        u[n+1] = leapfrog_step(u[n-1], u[n], f, dt)\n",
    "    \n",
    "    # store the value of u related to one grid\n",
    "    u_values[i] = u\n",
    "    \n",
    "# calculate the order of convergence\n",
    "alpha = (log(get_diffgrid(u_values[2], u_values[1], dt_values[2])) \n",
    "         - log(get_diffgrid(u_values[1], u_values[0], dt_values[1]))) / log(r)\n",
    "\n",
    "print('The order of convergence is alpha = %.3f' %alpha)\n"
   ]
  },
  {
   "cell_type": "code",
   "execution_count": null,
   "metadata": {
    "collapsed": true
   },
   "outputs": [],
   "source": []
  },
  {
   "cell_type": "code",
   "execution_count": null,
   "metadata": {
    "collapsed": true
   },
   "outputs": [],
   "source": []
  },
  {
   "cell_type": "code",
   "execution_count": 2,
   "metadata": {
    "collapsed": false
   },
   "outputs": [
    {
     "data": {
      "text/html": [
       "<link href='http://fonts.googleapis.com/css?family=Alegreya+Sans:100,300,400,500,700,800,900,100italic,300italic,400italic,500italic,700italic,800italic,900italic' rel='stylesheet' type='text/css'>\n",
       "<link href='http://fonts.googleapis.com/css?family=Arvo:400,700,400italic' rel='stylesheet' type='text/css'>\n",
       "<link href='http://fonts.googleapis.com/css?family=PT+Mono' rel='stylesheet' type='text/css'>\n",
       "<link href='http://fonts.googleapis.com/css?family=Shadows+Into+Light' rel='stylesheet' type='text/css'>\n",
       "<link href='http://fonts.googleapis.com/css?family=Nixie+One' rel='stylesheet' type='text/css'>\n",
       "<style>\n",
       "\n",
       "@font-face {\n",
       "    font-family: \"Computer Modern\";\n",
       "    src: url('http://mirrors.ctan.org/fonts/cm-unicode/fonts/otf/cmunss.otf');\n",
       "}\n",
       "\n",
       "#notebook_panel { /* main background */\n",
       "   /*background-image: url(\"C:\\Users\\croberts94\\Desktop\\Linkedin_Profpic.png\");\n",
       "    background-repeat: repeat;*/\n",
       "    background-color: blue;\n",
       "}\n",
       "\n",
       "#ipython-main-app {\n",
       "    background: blue;\n",
       "    height: 0%;\n",
       "}\n",
       "\n",
       "#notebook-container {\n",
       " background: rgb(227,236,242);/*rgb(255,218,152);*/\n",
       " border: 3px solid rgb(0,51,102);\n",
       " width: 100%;\n",
       "}\n",
       "\n",
       "div.cell { /* set cell width */\n",
       "    width: 750px;\n",
       "}\n",
       "\n",
       "div #notebook { /* centre the content */\n",
       "    background: white; /* white background for content */\n",
       "    width: 1000px;\n",
       "    margin: auto;\n",
       "    padding-left: 0em;\n",
       "}\n",
       "\n",
       "#notebook li { /* More space between bullet points */\n",
       "    margin-top:0.8em;\n",
       "}\n",
       "\n",
       "/* draw border around running cells */\n",
       "div.cell.border-box-sizing.code_cell.running { \n",
       "    border: 1px http://localhost:8888/edit/Desktop/GitHub/MAE6286/connor_style.css#solid #111;\n",
       "}\n",
       "\n",
       "/* Put a solid color box around each cell and its output, visually linking them*/\n",
       "div.cell.code_cell {\n",
       "    background-color: rgb(227,236,242); \n",
       "    border-radius: 0px; \n",
       "    padding: 0.5em;\n",
       "    margin-left:1em;\n",
       "    margin-top: 1em;\n",
       "}\n",
       "\n",
       "div.text_cell_render{\n",
       "    font-family: 'Alegreya Sans' sans-serif;\n",
       "    line-height: 140%;\n",
       "    font-size: 125%;\n",
       "    font-weight: 400;\n",
       "    width:100%;\n",
       "    margin-left:1em;\n",
       "    margin-right:auto;\n",
       "}\n",
       "\n",
       "\n",
       "/* Formatting for header cells */\n",
       ".text_cell_render h1 {\n",
       "    font-family: 'Nixie One', serif;\n",
       "    text-decoration: underline;\n",
       "    /*border-bottom: 5px solid rgb(0,51,102);*/\n",
       "    font-weight: 400;    \n",
       "    font-size: 40pt;\n",
       "    line-height: 100%;\n",
       "    color: rgb(0,51,102);\n",
       "    margin-bottom: 0.5em;\n",
       "    margin-top: 0.5em;\n",
       "    display: block;\n",
       "    /*margin-left: -1em;*/\n",
       "    }\n",
       "\n",
       ".text_cell_render h2 {\n",
       "    font-family: 'Nixie One', serif;\n",
       "    font-weight: 400;\n",
       "    font-size: 30pt;\n",
       "    line-height: 100%;\n",
       "    color: rgb(0,51,102);\n",
       "    font-style: bold;\n",
       "    margin-bottom: 0.1em;\n",
       "    margin-top: 0.3em;\n",
       "    display: block;\n",
       "}\t\n",
       "\n",
       ".text_cell_render h3 {\n",
       "    font-family: 'Nixie One', serif;\n",
       "    margin-top:16px;\n",
       "    font-size: 22pt;\n",
       "    font-weight: 600;\n",
       "    margin-bottom: 3px;\n",
       "    font-style: regular;\n",
       "    color: rgb(102,102,0);\n",
       "}\n",
       "\n",
       ".text_cell_render h4 {    /*Use this for captions*/\n",
       "    font-family: 'Nixie One', serif;\n",
       "    font-size: 14pt;\n",
       "    text-align: center;\n",
       "    margin-top: 0em;\n",
       "    margin-bottom: 2em;\n",
       "    font-style: regular;\n",
       "}\n",
       "\n",
       ".text_cell_render h5 {  /*Use this for small titles*/\n",
       "    font-family: 'Nixie One', sans-serif;\n",
       "    font-weight: 400;\n",
       "    font-size: 16pt;\n",
       "    color: rgb(163,0,0);\n",
       "    font-style: italic;\n",
       "    margin-bottom: .1em;\n",
       "    margin-top: 0.8em;\n",
       "    display: block;\n",
       "}\n",
       "\n",
       ".text_cell_render h6 { /*use this for copyright note*/\n",
       "    font-family: 'PT Mono', sans-serif;\n",
       "    font-weight: 300;\n",
       "    font-size: 9pt;\n",
       "    line-height: 100%;\n",
       "    color: grey;\n",
       "    margin-bottom: 1px;\n",
       "    margin-top: 1px;\n",
       "}\n",
       "\n",
       ".CodeMirror{\n",
       "    font-family: \"PT Mono\";\n",
       "    font-size: 90%;\n",
       "}\n",
       "\n",
       "</style>\n",
       "<script>\n",
       "    MathJax.Hub.Config({\n",
       "                        TeX: {\n",
       "                           extensions: [\"AMSmath.js\"],\n",
       "                           equationNumbers: { autoNumber: \"AMS\", useLabelIds: true}\n",
       "                           },\n",
       "                tex2jax: {\n",
       "                    inlineMath: [ ['$','$'], [\"\\\\(\",\"\\\\)\"] ],\n",
       "                    displayMath: [ ['$$','$$'], [\"\\\\[\",\"\\\\]\"] ]\n",
       "                },\n",
       "                displayAlign: 'center', // Change this to 'center' to center equations.\n",
       "                \"HTML-CSS\": {\n",
       "                    styles: {'.MathJax_Display': {\"margin\": 4}}\n",
       "                }\n",
       "        });\n",
       "</script>\n"
      ],
      "text/plain": [
       "<IPython.core.display.HTML object>"
      ]
     },
     "execution_count": 2,
     "metadata": {},
     "output_type": "execute_result"
    }
   ],
   "source": [
    "# Execute this cell to load the notebook's style sheet, then ignore it\n",
    "from IPython.core.display import HTML\n",
    "HTML(\"<link href='http://fonts.googleapis.com/css?family=Alegreya+Sans:100,300,400,500,700,800,900,100italic,300italic,400italic,500italic,700italic,800italic,900italic' rel='stylesheet' type='text/css'><link href='http://fonts.googleapis.com/css?family=Arvo:400,700,400italic' rel='stylesheet' type='text/css'>\n",
    "<link href='http://fonts.googleapis.com/css?family=PT+Mono' rel='stylesheet' type='text/css'><link href='http://fonts.googleapis.com/css?family=Shadows+Into+Light' rel='stylesheet' type='text/css'>\n",
    "<link href='http://fonts.googleapis.com/css?family=Nixie+One' rel='stylesheet' type='text/css'><style>@font-face {\n",
    "    font-family: \"Computer Modern\";    src: url('http://mirrors.ctan.org/fonts/cm-unicode/fonts/otf/cmunss.otf');\n",
    "}\n",
    "#notebook_panel { /* main background */   /*background-image: url(\"C:\\Users\\croberts94\\Desktop\\Linkedin_Profpic.png\");\n",
    "    background-repeat: repeat;*/    background-color: blue;\n",
    "}\n",
    "#ipython-main-app {    background: blue;\n",
    "    height: 0%;}\n",
    "#notebook-container {\n",
    " background: rgb(227,236,242);/*rgb(255,218,152);*/ border: 3px solid rgb(0,51,102);\n",
    " width: 100%;}\n",
    "div.cell { /* set cell width */\n",
    "    width: 750px;}\n",
    "div #notebook { /* centre the content */\n",
    "    background: white; /* white background for content */    width: 1000px;\n",
    "    margin: auto;    padding-left: 0em;\n",
    "}#notebook li { /* More space between bullet points */    margin-top:0.8em;}\n",
    "/* draw border around running cells */div.cell.border-box-sizing.code_cell.running { \n",
    "    border: 1px http://localhost:8888/edit/Desktop/GitHub/MAE6286/connor_style.css#solid #111;\n",
    "}/* Put a solid color box around each cell and its output, visually linking them*/\n",
    "div.cell.code_cell {    background-color: rgb(227,236,242); \n",
    "    border-radius: 0px;     padding: 0.5em;\n",
    "    margin-left:1em;    margin-top: 1em;\n",
    "}div.text_cell_render{font-family: 'Alegreya Sans' sans-serif;    line-height: 140%;    font-size: 125%;\n",
    "    font-weight: 400;    width:100%;\n",
    "    margin-left:1em;    margin-right:auto;\n",
    "}\n",
    "/* Formatting for header cells */\n",
    ".text_cell_render h1 {    font-family: 'Nixie One', serif;\n",
    "    text-decoration: underline;    /*border-bottom: 5px solid rgb(0,51,102);*/\n",
    "    font-weight: 400;        font-size: 40pt;\n",
    "    line-height: 100%;    color: rgb(0,51,102);\n",
    "    margin-bottom: 0.5em;    margin-top: 0.5em;\n",
    "    display: block;    /*margin-left: -1em;*/\n",
    "    }\n",
    ".text_cell_render h2 {    font-family: 'Nixie One', serif;\n",
    "    font-weight: 400;    font-size: 30pt;\n",
    "    line-height: 100%;    color: rgb(0,51,102);\n",
    "    font-style: bold;    margin-bottom: 0.1em;\n",
    "    margin-top: 0.3em;    display: block;\n",
    "}\t\n",
    ".text_cell_render h3 {    font-family: 'Nixie One', serif;\n",
    "    margin-top:16px;    font-size: 22pt;\n",
    "    font-weight: 600;    margin-bottom: 3px;\n",
    "    font-style: regular;    color: rgb(102,102,0);\n",
    "}\n",
    ".text_cell_render h4 {    /*Use this for captions*/    font-family: 'Nixie One', serif;\n",
    "    font-size: 14pt;\n",
    "    text-align: center;\n",
    "    margin-top: 0em;\n",
    "    margin-bottom: 2em;\n",
    "    font-style: regular;\n",
    "}\n",
    "\n",
    ".text_cell_render h5 {  /*Use this for small titles*/\n",
    "    font-family: 'Nixie One', sans-serif;\n",
    "    font-weight: 400;\n",
    "    font-size: 16pt;\n",
    "    color: rgb(163,0,0);\n",
    "    font-style: italic;\n",
    "    margin-bottom: .1em;\n",
    "    margin-top: 0.8em;\n",
    "    display: block;\n",
    "}\n",
    "\n",
    ".text_cell_render h6 { /*use this for copyright note*/\n",
    "    font-family: 'PT Mono', sans-serif;\n",
    "    font-weight: 300;\n",
    "    font-size: 9pt;\n",
    "    line-height: 100%;\n",
    "    color: grey;\n",
    "    margin-bottom: 1px;\n",
    "    margin-top: 1px;\n",
    "}\n",
    "\n",
    ".CodeMirror{\n",
    "    font-family: \"PT Mono\";\n",
    "    font-size: 90%;\n",
    "}\n",
    "\n",
    "</style>\n",
    "<script>\n",
    "    MathJax.Hub.Config({\n",
    "                        TeX: {\n",
    "                           extensions: [\"AMSmath.js\"],\n",
    "                           equationNumbers: { autoNumber: \"AMS\", useLabelIds: true}\n",
    "                           },\n",
    "                tex2jax: {\n",
    "                    inlineMath: [ ['$','$'], [\"\\\\(\",\"\\\\)\"] ],\n",
    "                    displayMath: [ ['$$','$$'], [\"\\\\[\",\"\\\\]\"] ]\n",
    "                },\n",
    "                displayAlign: 'center', // Change this to 'center' to center equations.\n",
    "                \"HTML-CSS\": {\n",
    "                    styles: {'.MathJax_Display': {\"margin\": 4}}\n",
    "                }\n",
    "        });\n",
    "</script>\")"
   ]
  }
 ],
 "metadata": {
  "kernelspec": {
   "display_name": "Python 3",
   "language": "python",
   "name": "python3"
  },
  "language_info": {
   "codemirror_mode": {
    "name": "ipython",
    "version": 3
   },
   "file_extension": ".py",
   "mimetype": "text/x-python",
   "name": "python",
   "nbconvert_exporter": "python",
   "pygments_lexer": "ipython3",
   "version": "3.4.3"
  }
 },
 "nbformat": 4,
 "nbformat_minor": 0
}
